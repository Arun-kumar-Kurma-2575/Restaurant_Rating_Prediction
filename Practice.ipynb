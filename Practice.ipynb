{
 "cells": [
  {
   "cell_type": "code",
   "execution_count": 4,
   "id": "0d18920a-c1c9-4009-88a8-f7774bb05d6a",
   "metadata": {},
   "outputs": [
    {
     "name": "stdout",
     "output_type": "stream",
     "text": [
      "['Australia', 'Brazil', 'Canada', 'India', 'Indonesia', 'New Zealand', 'Philippines', 'Qatar', 'Singapore', 'South Africa', 'Sri Lanka', 'Turkey', 'UAE', 'UK', 'USA']\n"
     ]
    },
    {
     "name": "stdin",
     "output_type": "stream",
     "text": [
      "Select the Country Code: Brazil\n"
     ]
    },
    {
     "name": "stdout",
     "output_type": "stream",
     "text": [
      "30\n"
     ]
    },
    {
     "data": {
      "text/plain": [
       "1"
      ]
     },
     "execution_count": 4,
     "metadata": {},
     "output_type": "execute_result"
    }
   ],
   "source": [
    "country_code_option=['162','30','216','14','37','184','214','1','94','148','215','166','189','191','208']\n",
    "country_sorted=sorted(['Philippines','Brazil','USA','Canada','Australia','Singapore','UAE','India','Indonesia','New Zealand','UK','Qatar','South Africa','Sri Lanka','Turkey'])\n",
    "print(country_sorted)\n",
    "country_code = input('Select the Country Code:')\n",
    "#country_code_1=country_sorted.index(country_code)\n",
    "#print(country_code_1)\n",
    "country_dict={'Philippines':162,'Brazil':30,'USA':216,'Canada':37,'Australia':14,'Singapore':184,'UAE':214,'India':1,'Indonesia':94,'New Zealand':148,'UK':215,'Qatar':166,'South Africa':189,'Sri Lanka':191,'Turkey':208}\n",
    "code=str(country_dict[country_code])\n",
    "print(code)\n",
    "country_code_encoded = country_code_option.index(code)\n",
    "country_code_encoded\n"
   ]
  },
  {
   "cell_type": "code",
   "execution_count": 24,
   "id": "adce36e2-be2e-4ad6-b616-ff876ec198e1",
   "metadata": {},
   "outputs": [
    {
     "name": "stdout",
     "output_type": "stream",
     "text": [
      "['Australia', 'Brazil', 'Canada', 'India', 'Indonesia', 'New Zealand', 'Philippines', 'Qatar', 'Singapore', 'South Africa', 'Sri Lanka', 'Turkey', 'UAE', 'UK', 'USA']\n"
     ]
    },
    {
     "name": "stdin",
     "output_type": "stream",
     "text": [
      "Select the Country Code: India\n"
     ]
    },
    {
     "name": "stdout",
     "output_type": "stream",
     "text": [
      "1\n",
      "['Agra', 'Ahmedabad', 'Allahabad', 'Amritsar', 'Aurangabad', 'Bangalore', 'Bhopal', 'Bhubaneshwar', 'Chandigarh', 'Chennai', 'Coimbatore', 'Dehradun', 'Faridabad', 'Ghaziabad', 'Goa', 'Gurgaon', 'Guwahati', 'Hyderabad', 'Indore', 'Jaipur', 'Kanpur', 'Kochi', 'Kolkata', 'Lucknow', 'Ludhiana', 'Mangalore', 'Mohali', 'Mumbai', 'Mysore', 'Nagpur', 'Nashik', 'New Delhi', 'Noida', 'Panchkula', 'Patna', 'Puducherry', 'Pune', 'Ranchi', 'Secunderabad', 'Surat', 'Vadodara', 'Varanasi', 'Vizag']\n"
     ]
    },
    {
     "name": "stdin",
     "output_type": "stream",
     "text": [
      "🏙️ Select the City: New Delhi\n"
     ]
    },
    {
     "name": "stdout",
     "output_type": "stream",
     "text": [
      "New Delhi\n"
     ]
    },
    {
     "data": {
      "text/plain": [
       "109"
      ]
     },
     "execution_count": 24,
     "metadata": {},
     "output_type": "execute_result"
    }
   ],
   "source": [
    "country_code_option=['162','30','216','14','37','184','214','1','94','148','215','166','189','191','208']\n",
    "country_sorted=sorted(['Philippines','Brazil','USA','Canada','Australia','Singapore','UAE','India','Indonesia','New Zealand','UK','Qatar','South Africa','Sri Lanka','Turkey'])\n",
    "print(country_sorted)\n",
    "country_code = input('Select the Country Code:')\n",
    "#country_code_1=country_sorted.index(country_code)\n",
    "#print(country_code_1)\n",
    "country_dict={'Philippines':162,'Brazil':30,'USA':216,'Canada':37,'Australia':14,'Singapore':184,'UAE':214,'India':1,'Indonesia':94,'New Zealand':148,'UK':215,'Qatar':166,'South Africa':189,'Sri Lanka':191,'Turkey':208}\n",
    "code=str(country_dict[country_code])\n",
    "print(code)\n",
    "country_code_encoded = country_code_option.index(code)\n",
    "country_code_encoded\n",
    "\n",
    "# City Encoding\n",
    "cities = {\n",
    "    'Philippines': ['Makati City','Mandaluyong City','Pasay City','Pasig City','Quezon City','San Juan City','Santa Rosa','Tagaytay City','Taguig City'],'Brazil':['Brasília','Rio de Janeiro','São Paulo'],'USA':['Albany','Athens','Augusta','Boise','Cedar Rapids/Iowa City','Clatskanie','Columbus','Dalton','Davenport','Des Moines','Dubuque','Fernley','Gainesville','Lakeview','Lincoln','Macon','Miller','Monroe','Ojo Caliente','Orlando','Pensacola','Potrero','Pocatello','Princeton','Rest of Hawaii','Savannah','Sioux City','Tampa Bay','Valdosta','Vernonia','Waterloo','Weirton','Winchester Bay'],'Canada':['Chatham-Kent','Cochrane','Consort','Yorkton','Vineland Station'],'Australia':['Armidale','Balingup','Beechworth','Dicky Beach','East Ballina','Flaxton','Forrest','Hepburn Springs','Huskisson','Inverloch','Lakes Entrance','Lorn','Mayfield','Macedon','Mc Millan','Middleton Beach','Montville','Palm Cove','Paynesville','Penola','Phillip Island','Tanunda','Trentham East','Victor Harbor'],'Singapore':['Singapore'],\n",
    "    'UAE':['Abu Dhabi','Dubai','Sharjah'],\n",
    "   'India':['Agra','Ahmedabad','Allahabad','Amritsar','Aurangabad','Bangalore','Bhopal','Bhubaneshwar','Chandigarh','Chennai','Coimbatore','Dehradun','Faridabad','Ghaziabad','Goa','Gurgaon','Guwahati','Hyderabad','Indore','Jaipur','Kanpur','Kochi','Kolkata','Lucknow','Ludhiana','Mangalore','Mohali','Mumbai','Mysore','Nagpur','Nashik','New Delhi','Noida','Panchkula','Patna','Puducherry','Pune','Ranchi','Secunderabad','Surat','Vadodara','Varanasi','Vizag'],\n",
    "    'Indonesia':['Bandung','Bogor','Jakarta','Tangerang'],\n",
    "    'New Zealand':['Auckland','Wellington City'],\n",
    "'UK':['Birmingham','Edinburgh','London','Manchester'],\n",
    "'Qatar':['Doha'],\n",
    "'South Africa':['Cape Town','Inner City','Johannesburg','Pretoria','Randburg','Sandton'],\n",
    "'Sri Lanka':['Colombo'],\n",
    "   'Turkey':['Ankara','Istanbul']\n",
    "}\n",
    "city_option=['Makati City','Mandaluyong City','Pasay City','Pasig City','Quezon City','San Juan City','Santa Rosa','Tagaytay City','Taguig City','Bras_lia','Rio de Janeiro','So Paulo','Albany','Armidale','Athens','Augusta','Balingup','Beechworth','Boise','Cedar Rapids/Iowa City','Chatham-Kent','Clatskanie','Cochrane','Columbus','Consort','Dalton','Davenport','Des Moines','Dicky Beach','Dubuque','East Ballina','Fernley','Flaxton','Forrest','Gainesville','Hepburn Springs','Huskisson','Inverloch','Lakes Entrance','Lakeview','Lincoln','Lorn','Macedon','Macon','Mayfield','Mc Millan','Middleton Beach','Miller','Monroe','Montville','Ojo Caliente','Orlando','Palm Cove','Paynesville','Penola','Pensacola','Phillip Island','Pocatello','Potrero','Princeton','Rest of Hawaii','Savannah','Singapore','Sioux City','Tampa Bay','Tanunda','Trentham East','Valdosta','Vernonia','Victor Harbor','Vineland Station','Waterloo','Weirton','Winchester Bay','Yorkton','Abu Dhabi','Dubai','Sharjah','Agra','Ahmedabad','Allahabad','Amritsar','Aurangabad','Bangalore','Bhopal','Bhubaneshwar','Chandigarh','Chennai','Coimbatore','Dehradun','Faridabad','Ghaziabad','Goa','Gurgaon','Guwahati','Hyderabad','Indore','Jaipur','Kanpur','Kochi','Kolkata','Lucknow','Ludhiana','Mangalore','Mohali','Mumbai','Mysore','Nagpur','Nashik','New Delhi','Noida','Panchkula','Patna','Puducherry','Pune','Ranchi','Secunderabad','Surat','Vadodara','Varanasi','Vizag','Bandung','Bogor','Jakarta','Tangerang','Auckland','Wellington City','Birmingham','Edinburgh','London','Manchester','Doha','Cape Town','Inner City','Johannesburg','Pretoria','Randburg','Sandton','Colombo','Ankara','stanbul']\n",
    "city_sorted=sorted(cities[country_code])\n",
    "print(city_sorted)\n",
    "city = input(f'🏙️ Select the City:')\n",
    "print(city)\n",
    "city_encoded = city_option.index(city)\n",
    "city_encoded\n"
   ]
  },
  {
   "cell_type": "code",
   "execution_count": 19,
   "id": "264614a4-08ee-4865-a0b8-7cac96699422",
   "metadata": {},
   "outputs": [
    {
     "data": {
      "text/plain": [
       "['Agra',\n",
       " 'Ahmedabad',\n",
       " 'Allahabad',\n",
       " 'Amritsar',\n",
       " 'Aurangabad',\n",
       " 'Bangalore',\n",
       " 'Bhopal',\n",
       " 'Bhubaneshwar',\n",
       " 'Chandigarh',\n",
       " 'Chennai',\n",
       " 'Coimbatore',\n",
       " 'Dehradun',\n",
       " 'Faridabad',\n",
       " 'Ghaziabad',\n",
       " 'Goa',\n",
       " 'Gurgaon',\n",
       " 'Guwahati',\n",
       " 'Hyderabad',\n",
       " 'Indore',\n",
       " 'Jaipur',\n",
       " 'Kanpur',\n",
       " 'Kochi',\n",
       " 'Kolkata',\n",
       " 'Lucknow',\n",
       " 'Ludhiana',\n",
       " 'Mangalore',\n",
       " 'Mohali',\n",
       " 'Mumbai',\n",
       " 'Mysore',\n",
       " 'Nagpur',\n",
       " 'Nashik',\n",
       " 'New Delhi',\n",
       " 'Noida',\n",
       " 'Panchkula',\n",
       " 'Patna',\n",
       " 'Puducherry',\n",
       " 'Pune',\n",
       " 'Ranchi',\n",
       " 'Secunderabad',\n",
       " 'Surat',\n",
       " 'Vadodara',\n",
       " 'Varanasi',\n",
       " 'Vizag']"
      ]
     },
     "execution_count": 19,
     "metadata": {},
     "output_type": "execute_result"
    }
   ],
   "source": [
    "# List of cities from the provided data\n",
    "\n",
    "cities = {\n",
    "    'Philippines': ['Makati City','Mandaluyong City','Pasay City','Pasig City','Quezon City','San Juan City','Santa Rosa','Tagaytay City','Taguig City'],'Brazil':['Brasília','Rio de Janeiro','São Paulo'],'USA':['Albany','Athens','Augusta','Boise','Cedar Rapids/Iowa City','Clatskanie','Columbus','Dalton','Davenport','Des Moines','Dubuque','Fernley','Gainesville','Lakeview','Lincoln','Macon','Miller','Monroe','Ojo Caliente','Orlando','Pensacola','Potrero','Pocatello','Princeton','Rest of Hawaii','Savannah','Sioux City','Tampa Bay','Valdosta','Vernonia','Waterloo','Weirton','Winchester Bay'],'Canada':['Chatham-Kent','Cochrane','Consort','Yorkton','Vineland Station'],'Australia':['Armidale','Balingup','Beechworth','Dicky Beach','East Ballina','Flaxton','Forrest','Hepburn Springs','Huskisson','Inverloch','Lakes Entrance','Lorn','Mayfield','Macedon','Mc Millan','Middleton Beach','Montville','Palm Cove','Paynesville','Penola','Phillip Island','Tanunda','Trentham East','Victor Harbor'],'Singapore':['Singapore'],\n",
    "    'UAE':['Abu Dhabi','Dubai','Sharjah'],\n",
    "   'India':['Agra','Ahmedabad','Allahabad','Amritsar','Aurangabad','Bangalore','Bhopal','Bhubaneshwar','Chandigarh','Chennai','Coimbatore','Dehradun','Faridabad','Ghaziabad','Goa','Gurgaon','Guwahati','Hyderabad','Indore','Jaipur','Kanpur','Kochi','Kolkata','Lucknow','Ludhiana','Mangalore','Mohali','Mumbai','Mysore','Nagpur','Nashik','New Delhi','Noida','Panchkula','Patna','Puducherry','Pune','Ranchi','Secunderabad','Surat','Vadodara','Varanasi','Vizag'],\n",
    "    'Indonesia':['Bandung','Bogor','Jakarta','Tangerang'],\n",
    "    'New Zealand':['Auckland','Wellington City'],\n",
    "'UK':['Birmingham','Edinburgh','London','Manchester'],\n",
    "'Qatar':['Doha'],\n",
    "'South Africa':['Cape Town','Inner City','Johannesburg','Pretoria','Randburg','Sandton'],\n",
    "'Sri Lanka':['Colombo'],\n",
    "   'Turkey':['Ankara','Istanbul']\n",
    "}\n",
    "# # # Count the total number of cities\n",
    "# # total_cities = len(cities)\n",
    "# # total_cities\n",
    "# for i in cities:\n",
    "#     print(f'{i}:{cities[i]}')\n",
    "sorted(cities['India'])"
   ]
  },
  {
   "cell_type": "code",
   "execution_count": 14,
   "id": "4843ba2b-78bc-492e-a3a1-4aeec2addeb5",
   "metadata": {},
   "outputs": [],
   "source": [
    "\n",
    "for i in cities:\n",
    "    if i in city_sorted:\n",
    "        pass\n",
    "    else:\n",
    "        print(i)\n",
    "    \n",
    "    "
   ]
  },
  {
   "cell_type": "code",
   "execution_count": 13,
   "id": "5afe242b-3045-4d1a-968c-8fa037ac1aee",
   "metadata": {},
   "outputs": [
    {
     "data": {
      "text/plain": [
       "['Abu Dhabi',\n",
       " 'Agra',\n",
       " 'Ahmedabad',\n",
       " 'Albany',\n",
       " 'Allahabad',\n",
       " 'Amritsar',\n",
       " 'Ankara',\n",
       " 'Armidale',\n",
       " 'Athens',\n",
       " 'Auckland',\n",
       " 'Augusta',\n",
       " 'Aurangabad',\n",
       " 'Balingup',\n",
       " 'Bandung',\n",
       " 'Bangalore',\n",
       " 'Beechworth',\n",
       " 'Bhopal',\n",
       " 'Bhubaneshwar',\n",
       " 'Birmingham',\n",
       " 'Bogor',\n",
       " 'Boise',\n",
       " 'Brasília',\n",
       " 'Cape Town',\n",
       " 'Cedar Rapids/Iowa City',\n",
       " 'Chandigarh',\n",
       " 'Chatham-Kent',\n",
       " 'Chennai',\n",
       " 'Clatskanie',\n",
       " 'Cochrane',\n",
       " 'Coimbatore',\n",
       " 'Colombo',\n",
       " 'Columbus',\n",
       " 'Consort',\n",
       " 'Dalton',\n",
       " 'Davenport',\n",
       " 'Dehradun',\n",
       " 'Des Moines',\n",
       " 'Dicky Beach',\n",
       " 'Doha',\n",
       " 'Dubai',\n",
       " 'Dubuque',\n",
       " 'East Ballina',\n",
       " 'Edinburgh',\n",
       " 'Faridabad',\n",
       " 'Fernley',\n",
       " 'Flaxton',\n",
       " 'Forrest',\n",
       " 'Gainesville',\n",
       " 'Ghaziabad',\n",
       " 'Goa',\n",
       " 'Gurgaon',\n",
       " 'Guwahati',\n",
       " 'Hepburn Springs',\n",
       " 'Huskisson',\n",
       " 'Hyderabad',\n",
       " 'Indore',\n",
       " 'Inner City',\n",
       " 'Inverloch',\n",
       " 'Istanbul',\n",
       " 'Jaipur',\n",
       " 'Jakarta',\n",
       " 'Johannesburg',\n",
       " 'Kanpur',\n",
       " 'Kochi',\n",
       " 'Kolkata',\n",
       " 'Lakes Entrance',\n",
       " 'Lakeview',\n",
       " 'Lincoln',\n",
       " 'London',\n",
       " 'Lorn',\n",
       " 'Lucknow',\n",
       " 'Ludhiana',\n",
       " 'Macedon',\n",
       " 'Macon',\n",
       " 'Makati City',\n",
       " 'Manchester',\n",
       " 'Mandaluyong City',\n",
       " 'Mangalore',\n",
       " 'Mayfield',\n",
       " 'Mc Millan',\n",
       " 'Middleton Beach',\n",
       " 'Miller',\n",
       " 'Mohali',\n",
       " 'Monroe',\n",
       " 'Montville',\n",
       " 'Mumbai',\n",
       " 'Mysore',\n",
       " 'Nagpur',\n",
       " 'Nashik',\n",
       " 'New Delhi',\n",
       " 'Noida',\n",
       " 'Ojo Caliente',\n",
       " 'Orlando',\n",
       " 'Palm Cove',\n",
       " 'Panchkula',\n",
       " 'Pasay City',\n",
       " 'Pasig City',\n",
       " 'Patna',\n",
       " 'Paynesville',\n",
       " 'Penola',\n",
       " 'Pensacola',\n",
       " 'Phillip Island',\n",
       " 'Pocatello',\n",
       " 'Potrero',\n",
       " 'Pretoria',\n",
       " 'Princeton',\n",
       " 'Puducherry',\n",
       " 'Pune',\n",
       " 'Quezon City',\n",
       " 'Ranchi',\n",
       " 'Randburg',\n",
       " 'Rest of Hawaii',\n",
       " 'Rio de Janeiro',\n",
       " 'San Juan City',\n",
       " 'Sandton',\n",
       " 'Santa Rosa',\n",
       " 'Savannah',\n",
       " 'Secunderabad',\n",
       " 'Sharjah',\n",
       " 'Singapore',\n",
       " 'Sioux City',\n",
       " 'Surat',\n",
       " 'São Paulo',\n",
       " 'Tagaytay City',\n",
       " 'Taguig City',\n",
       " 'Tampa Bay',\n",
       " 'Tangerang',\n",
       " 'Tanunda',\n",
       " 'Trentham East',\n",
       " 'Vadodara',\n",
       " 'Valdosta',\n",
       " 'Varanasi',\n",
       " 'Vernonia',\n",
       " 'Victor Harbor',\n",
       " 'Vineland Station',\n",
       " 'Vizag',\n",
       " 'Waterloo',\n",
       " 'Weirton',\n",
       " 'Wellington City',\n",
       " 'Winchester Bay',\n",
       " 'Yorkton']"
      ]
     },
     "execution_count": 13,
     "metadata": {},
     "output_type": "execute_result"
    }
   ],
   "source": [
    "city_option=['Makati City','Mandaluyong City','Pasay City','Pasig City','Quezon City','San Juan City','Santa Rosa','Tagaytay City','Taguig City','Brasília','Rio de Janeiro','São Paulo','Albany','Armidale','Athens','Augusta','Balingup','Beechworth','Boise','Cedar Rapids/Iowa City','Chatham-Kent','Clatskanie','Cochrane','Columbus','Consort','Dalton','Davenport','Des Moines','Dicky Beach','Dubuque','East Ballina','Fernley','Flaxton','Forrest','Gainesville','Hepburn Springs','Huskisson','Inverloch','Lakes Entrance','Lakeview','Lincoln','Lorn','Macedon','Macon','Mayfield','Mc Millan','Middleton Beach','Miller','Monroe','Montville','Ojo Caliente','Orlando','Palm Cove','Paynesville','Penola','Pensacola','Phillip Island','Pocatello','Potrero','Princeton','Rest of Hawaii','Savannah','Singapore','Sioux City','Tampa Bay','Tanunda','Trentham East','Valdosta','Vernonia','Victor Harbor','Vineland Station','Waterloo','Weirton','Winchester Bay','Yorkton','Abu Dhabi','Dubai','Sharjah','Agra','Ahmedabad','Allahabad','Amritsar','Aurangabad','Bangalore','Bhopal','Bhubaneshwar','Chandigarh','Chennai','Coimbatore','Dehradun','Faridabad','Ghaziabad','Goa','Gurgaon','Guwahati','Hyderabad','Indore','Jaipur','Kanpur','Kochi','Kolkata','Lucknow','Ludhiana','Mangalore','Mohali','Mumbai','Mysore','Nagpur','Nashik','New Delhi','Noida','Panchkula','Patna','Puducherry','Pune','Ranchi','Secunderabad','Surat','Vadodara','Varanasi','Vizag','Bandung','Bogor','Jakarta','Tangerang','Auckland','Wellington City','Birmingham','Edinburgh','London','Manchester','Doha','Cape Town','Inner City','Johannesburg','Pretoria','Randburg','Sandton','Colombo','Ankara','Istanbul']\n",
    "city_sorted=sorted(city_option)\n",
    "city_sorted"
   ]
  },
  {
   "cell_type": "code",
   "execution_count": 23,
   "id": "bbbc12e5-7201-4267-99c5-2a4cdbb84bf4",
   "metadata": {},
   "outputs": [
    {
     "data": {
      "text/plain": [
       "109"
      ]
     },
     "execution_count": 23,
     "metadata": {},
     "output_type": "execute_result"
    }
   ],
   "source": [
    "city_option.index('New Delhi')"
   ]
  },
  {
   "cell_type": "code",
   "execution_count": null,
   "id": "027d7a6d-1cf4-4030-acb2-152697cf1717",
   "metadata": {},
   "outputs": [],
   "source": []
  }
 ],
 "metadata": {
  "kernelspec": {
   "display_name": "Python 3 (ipykernel)",
   "language": "python",
   "name": "python3"
  },
  "language_info": {
   "codemirror_mode": {
    "name": "ipython",
    "version": 3
   },
   "file_extension": ".py",
   "mimetype": "text/x-python",
   "name": "python",
   "nbconvert_exporter": "python",
   "pygments_lexer": "ipython3",
   "version": "3.12.7"
  }
 },
 "nbformat": 4,
 "nbformat_minor": 5
}
